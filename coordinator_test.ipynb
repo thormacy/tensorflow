{
 "cells": [
  {
   "cell_type": "code",
   "execution_count": 43,
   "metadata": {},
   "outputs": [
    {
     "name": "stdout",
     "output_type": "stream",
     "text": [
      "dataset: [array([[8., 3., 7., 5., 1.],\n",
      "       [3., 5., 7., 8., 7.]], dtype=float32), array([1., 1.], dtype=float32)]\n",
      "dataset: [array([[5., 0., 2., 4., 9.],\n",
      "       [0., 1., 0., 3., 0.]], dtype=float32), array([0., 0.], dtype=float32)]\n",
      "dataset: [array([[3., 5., 2., 7., 7.],\n",
      "       [0., 3., 4., 2., 5.]], dtype=float32), array([0., 0.], dtype=float32)]\n",
      "dataset: [array([[2., 0., 0., 5., 8.],\n",
      "       [5., 2., 7., 9., 9.]], dtype=float32), array([1., 0.], dtype=float32)]\n",
      "dataset: [array([[0., 4., 7., 7., 3.],\n",
      "       [4., 8., 8., 3., 8.]], dtype=float32), array([1., 1.], dtype=float32)]\n",
      "queue is empty\n"
     ]
    }
   ],
   "source": [
    "import tensorflow as tf\n",
    "\n",
    "k = 0\n",
    "tfrecord_path = 'data.record'\n",
    "def _parse_function(example_proto): # 解析函数\n",
    "    dics = {  \n",
    "        'sample': tf.FixedLenFeature([5], tf.int64),  # 如果不是标量，一定要在这里说明数组的长度\n",
    "        'label': tf.FixedLenFeature([], tf.int64)\n",
    "    }\n",
    "    parsed_example = tf.parse_single_example(example_proto, dics)\n",
    "    parsed_example['sample'] = tf.cast(parsed_example['sample'], tf.float32)\n",
    "    parsed_example['label'] = tf.cast(parsed_example['label'], tf.float32)\n",
    "\n",
    "    return parsed_example\n",
    "\n",
    "def read_dataset(tfrecord_path = tfrecord_path):\n",
    "    dataset = tf.data.TFRecordDataset(tfrecord_path)\n",
    "    new_dataset = dataset.map(_parse_function)\n",
    "    shuffle_dataset = new_dataset.shuffle(buffer_size=20000) # 打乱顺序\n",
    "    batch_dataset = shuffle_dataset.batch(2) # 按batch数量输出\n",
    "    prefetch_dataset = batch_dataset.prefetch(2000) # 数据提前进入队列，速度会快很多\n",
    "    iterator = prefetch_dataset.make_one_shot_iterator()\n",
    "    next_element = iterator.get_next()\n",
    "    return next_element\n",
    "\n",
    "next_element = read_dataset()\n",
    "init = tf.group(tf.global_variables_initializer(), tf.local_variables_initializer())\n",
    "\n",
    "with tf.Session() as sess:\n",
    "    sess.run(init)\n",
    "    coord = tf.train.Coordinator()\n",
    "    threads = tf.train.start_queue_runners(coord=coord) # 文件名开始进入文件名队列和内存\n",
    "    \n",
    "    if k == 1:\n",
    "        while not coord.should_stop():\n",
    "            print('dataset:', sess.run([next_element['sample'], next_element['label']]))\n",
    "    else:\n",
    "        try:\n",
    "            while not coord.should_stop():\n",
    "                print('dataset:', sess.run([next_element['sample'], next_element['label']]))\n",
    "        except tf.errors.OutOfRangeError:\n",
    "            print(\"queue is empty\")\n",
    "    \n",
    "    coord.request_stop()\n",
    "    coord.join(threads)\n",
    "    \n"
   ]
  },
  {
   "cell_type": "code",
   "execution_count": null,
   "metadata": {},
   "outputs": [],
   "source": []
  },
  {
   "cell_type": "code",
   "execution_count": null,
   "metadata": {},
   "outputs": [],
   "source": []
  }
 ],
 "metadata": {
  "kernelspec": {
   "display_name": "Python 3",
   "language": "python",
   "name": "python3"
  },
  "language_info": {
   "codemirror_mode": {
    "name": "ipython",
    "version": 3
   },
   "file_extension": ".py",
   "mimetype": "text/x-python",
   "name": "python",
   "nbconvert_exporter": "python",
   "pygments_lexer": "ipython3",
   "version": "3.6.2"
  }
 },
 "nbformat": 4,
 "nbformat_minor": 2
}
