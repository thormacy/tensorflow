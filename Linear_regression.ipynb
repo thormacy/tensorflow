{
 "cells": [
  {
   "cell_type": "code",
   "execution_count": 1,
   "metadata": {},
   "outputs": [
    {
     "name": "stderr",
     "output_type": "stream",
     "text": [
      "/Library/Frameworks/Python.framework/Versions/3.6/lib/python3.6/site-packages/h5py/__init__.py:36: FutureWarning: Conversion of the second argument of issubdtype from `float` to `np.floating` is deprecated. In future, it will be treated as `np.float64 == np.dtype(float).type`.\n",
      "  from ._conv import register_converters as _register_converters\n"
     ]
    }
   ],
   "source": [
    "import tensorflow as tf\n",
    "import numpy\n",
    "import matplotlib.pyplot as plt\n",
    "rng = numpy.random"
   ]
  },
  {
   "cell_type": "code",
   "execution_count": 24,
   "metadata": {},
   "outputs": [],
   "source": [
    "# Parameters\n",
    "learning_rate = 0.01\n",
    "training_epochs = 20000\n",
    "display_step = 1000\n",
    "\n",
    "# Training Data\n",
    "train_X = numpy.asarray([3.3,4.4,5.5,6.71,6.93,4.168,9.779,6.182,7.59,2.167,7.042,10.791,5.313,7.997,5.654,9.27,3.1])\n",
    "train_Y = numpy.asarray([1.7,2.76,2.09,3.19,1.694,1.573,3.366,2.596,2.53,1.221,2.827,3.465,1.65,2.904,2.42,2.94,1.3])\n",
    "n_samples = train_X.shape[0]\n",
    "\n",
    "# tf Graph Input\n",
    "X = tf.placeholder(\"float\")\n",
    "Y = tf.placeholder(\"float\")"
   ]
  },
  {
   "cell_type": "code",
   "execution_count": 25,
   "metadata": {},
   "outputs": [
    {
     "name": "stdout",
     "output_type": "stream",
     "text": [
      "Epoch: 0001 cost= 14.973610878 W= 1.131257 b= 0.3745281\n",
      "Epoch: 1001 cost= 0.078523375 W= 0.2716905 b= 0.64250356\n",
      "Epoch: 2001 cost= 0.077115797 W= 0.2560754 b= 0.75483674\n",
      "Epoch: 3001 cost= 0.076999493 W= 0.25149387 b= 0.7877959\n",
      "Epoch: 4001 cost= 0.076990925 W= 0.25015277 b= 0.79744416\n",
      "Epoch: 5001 cost= 0.076990619 W= 0.24976078 b= 0.8002633\n",
      "Epoch: 6001 cost= 0.076990716 W= 0.24964547 b= 0.8010925\n",
      "Epoch: 7001 cost= 0.076990739 W= 0.2496119 b= 0.80133444\n",
      "Epoch: 8001 cost= 0.076990746 W= 0.24960834 b= 0.80136055\n",
      "Epoch: 9001 cost= 0.076990746 W= 0.24960834 b= 0.80136055\n",
      "Epoch: 10001 cost= 0.076990746 W= 0.24960834 b= 0.80136055\n",
      "Epoch: 11001 cost= 0.076990746 W= 0.24960834 b= 0.80136055\n",
      "Epoch: 12001 cost= 0.076990746 W= 0.24960834 b= 0.80136055\n",
      "Epoch: 13001 cost= 0.076990746 W= 0.24960834 b= 0.80136055\n",
      "Epoch: 14001 cost= 0.076990746 W= 0.24960834 b= 0.80136055\n",
      "Epoch: 15001 cost= 0.076990746 W= 0.24960834 b= 0.80136055\n",
      "Epoch: 16001 cost= 0.076990746 W= 0.24960834 b= 0.80136055\n",
      "Epoch: 17001 cost= 0.076990746 W= 0.24960834 b= 0.80136055\n",
      "Epoch: 18001 cost= 0.076990746 W= 0.24960834 b= 0.80136055\n",
      "Epoch: 19001 cost= 0.076990746 W= 0.24960834 b= 0.80136055\n",
      "Optimization Finished!\n",
      "cost= 0.076990746 W= 0.24960834 b= 0.80136055\n"
     ]
    },
    {
     "data": {
      "image/png": "[encoded data removed]",
      "text/plain": [
       "<matplotlib.figure.Figure at 0x12305afd0>"
      ]
     },
     "metadata": {},
     "output_type": "display_data"
    }
   ],
   "source": [
    "# Create Model\n",
    "\n",
    "# Set model weights\n",
    "W = tf.Variable(rng.randn(), name=\"weight\")\n",
    "b = tf.Variable(rng.randn(), name=\"bias\")\n",
    "\n",
    "# Construct a linear model\n",
    "activation = tf.add(tf.multiply(X, W), b)\n",
    "\n",
    "# Minimize the squared errors\n",
    "cost = tf.reduce_sum(tf.pow(activation-Y, 2))/(2*n_samples) #L2 loss\n",
    "optimizer = tf.train.GradientDescentOptimizer(learning_rate) #Gradient descent\n",
    "train = optimizer.minimize(cost)\n",
    "\n",
    "# Initializing the variables\n",
    "init = tf.initialize_all_variables()\n",
    "\n",
    "# Launch the graph\n",
    "with tf.Session() as sess:\n",
    "    sess.run(init)\n",
    "\n",
    "    # Fit all training data\n",
    "    for epoch in range(training_epochs):\n",
    "        for (x, y) in zip(train_X, train_Y):\n",
    "            sess.run(train, feed_dict={X: x, Y: y})\n",
    "\n",
    "        #Display logs per epoch step\n",
    "        if epoch % display_step == 0:\n",
    "            print(\"Epoch:\", '%04d' % (epoch+1), \"cost=\", \\\n",
    "                \"{:.9f}\".format(sess.run(cost, feed_dict={X: train_X, Y:train_Y})), \\\n",
    "                \"W=\", sess.run(W), \"b=\", sess.run(b) )\n",
    "\n",
    "    print(\"Optimization Finished!\")\n",
    "    print(\"cost=\", sess.run(cost, feed_dict={X: train_X, Y: train_Y}), \\\n",
    "          \"W=\", sess.run(W), \"b=\", sess.run(b))\n",
    "\n",
    "    #Graphic display\n",
    "    plt.plot(train_X, train_Y, 'ro', label='Original data')\n",
    "    plt.plot(train_X, sess.run(W) * train_X + sess.run(b), label='Fitted line')\n",
    "    plt.legend()\n",
    "    plt.show()"
   ]
  },
  {
   "cell_type": "code",
   "execution_count": null,
   "metadata": {},
   "outputs": [],
   "source": []
  }
 ],
 "metadata": {
  "kernelspec": {
   "display_name": "Python 3",
   "language": "python",
   "name": "python3"
  },
  "language_info": {
   "codemirror_mode": {
    "name": "ipython",
    "version": 3
   },
   "file_extension": ".py",
   "mimetype": "text/x-python",
   "name": "python",
   "nbconvert_exporter": "python",
   "pygments_lexer": "ipython3",
   "version": "3.6.2"
  }
 },
 "nbformat": 4,
 "nbformat_minor": 2
}
